{
 "cells": [
  {
   "cell_type": "code",
   "execution_count": null,
   "metadata": {},
   "outputs": [],
   "source": [
    "import pandas as pd\n",
    "import matplotlib.pyplot as plt\n",
    "\n",
    "# Load the combined data\n",
    "data = pd.read_csv('../data/combined.dat', header=None)\n",
    "\n",
    "# Perform simple analysis\n",
    "data.describe()\n",
    "\n",
    "# Plot the data\n",
    "plt.plot(data)\n",
    "plt.title(\"Data Plot\")\n",
    "plt.show()\n"
   ]
  }
 ],
 "metadata": {
  "language_info": {
   "name": "python"
  }
 },
 "nbformat": 4,
 "nbformat_minor": 2
}
